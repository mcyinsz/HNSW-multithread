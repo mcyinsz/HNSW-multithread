{
 "cells": [
  {
   "cell_type": "code",
   "execution_count": 18,
   "metadata": {},
   "outputs": [],
   "source": [
    "import numpy as np\n",
    "import index_hnsw_py as ih\n",
    "\n",
    "# 归一化向量\n",
    "# def normalize_vectors(vectors):\n",
    "#     # norms = np.linalg.norm(vectors, axis=1, keepdims=True)\n",
    "#     # return vectors / np.where(norms == 0, 1e-10, norms)  # 避免除以零\n",
    "#     return vectors\n",
    "\n",
    "# 生成示例数据\n",
    "d = 128\n",
    "n_data = 32000\n",
    "n_query = 8\n",
    "np.random.seed(123)\n",
    "def normalize(x):\n",
    "    # return x / np.linalg.norm(x)\n",
    "    return x\n",
    "database_vectors = np.array([normalize(np.random.rand(d)) for _ in range(n_data)],dtype=\"float32\")\n",
    "query_vector = np.array([normalize(np.random.rand(d)) for _ in range(n_query)],dtype=\"float32\")\n",
    "\n",
    "# 归一化向量\n",
    "# database_vectors = normalize_vectors(database_vectors)\n",
    "# query_vector = normalize_vectors(query_vector)\n",
    "\n",
    "\n",
    "\n",
    "index_hnsw = ih.IndexHNSW(d = d ,M = 20, metric=ih.MetricType.INNER_PRODUCT)\n",
    "index_hnsw.efConstruction = 20\n",
    "\n",
    "index_flat = ih.IndexFlat(d = d , metric=ih.MetricType.INNER_PRODUCT)\n",
    "        "
   ]
  },
  {
   "cell_type": "code",
   "execution_count": 19,
   "metadata": {},
   "outputs": [],
   "source": [
    "index_hnsw.add(database_vectors)\n",
    "index_flat.add(database_vectors)"
   ]
  },
  {
   "cell_type": "code",
   "execution_count": 20,
   "metadata": {},
   "outputs": [
    {
     "name": "stdout",
     "output_type": "stream",
     "text": [
      "3.87 ms ± 121 μs per loop (mean ± std. dev. of 7 runs, 100 loops each)\n"
     ]
    }
   ],
   "source": [
    "%%timeit\n",
    "\n",
    "\n",
    "k = 640\n",
    "distance_hnsw, label_hnsw = index_hnsw.search(query_vector,k = k,param_efSearch = k)"
   ]
  },
  {
   "cell_type": "code",
   "execution_count": 21,
   "metadata": {},
   "outputs": [
    {
     "name": "stdout",
     "output_type": "stream",
     "text": [
      "2.51 ms ± 88.6 μs per loop (mean ± std. dev. of 7 runs, 100 loops each)\n"
     ]
    }
   ],
   "source": [
    "%%timeit\n",
    "\n",
    "k = 640\n",
    "distance_flat, label_flat = index_flat.search(query_vector,k = k,param_efSearch = k)"
   ]
  }
 ],
 "metadata": {
  "kernelspec": {
   "display_name": "LongBench",
   "language": "python",
   "name": "python3"
  },
  "language_info": {
   "codemirror_mode": {
    "name": "ipython",
    "version": 3
   },
   "file_extension": ".py",
   "mimetype": "text/x-python",
   "name": "python",
   "nbconvert_exporter": "python",
   "pygments_lexer": "ipython3",
   "version": "3.10.16"
  }
 },
 "nbformat": 4,
 "nbformat_minor": 2
}
